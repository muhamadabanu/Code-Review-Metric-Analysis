{
 "cells": [
  {
   "cell_type": "code",
   "execution_count": 1,
   "metadata": {},
   "outputs": [],
   "source": [
    "import pandas as pd\n",
    "from environment import *\n",
    "from utils import *\n",
    "import warnings\n",
    "# Ignore all warnings\n",
    "warnings.filterwarnings(\"ignore\")"
   ]
  },
  {
   "cell_type": "markdown",
   "metadata": {},
   "source": [
    "#### Refer the SQL queries Written in utils/sql_queries.py file"
   ]
  },
  {
   "cell_type": "code",
   "execution_count": 2,
   "metadata": {},
   "outputs": [
    {
     "name": "stdout",
     "output_type": "stream",
     "text": [
      "Total number of unique changes: ((57376,),)\n"
     ]
    }
   ],
   "source": [
    "total_changes = database_data_fetcher(TotalChangesQuery)\n",
    "print(f\"Total number of unique changes: {total_changes}\")"
   ]
  },
  {
   "cell_type": "code",
   "execution_count": 3,
   "metadata": {},
   "outputs": [
    {
     "name": "stdout",
     "output_type": "stream",
     "text": [
      "Project Merge Status\n",
      "      Status  Count\n",
      "0        NEW   8189\n",
      "1     MERGED  38595\n",
      "2  ABANDONED  10592\n"
     ]
    }
   ],
   "source": [
    "change_status_counts = database_data_fetcher(ChangesByStatusQuery)\n",
    "change_status_counts = pd.DataFrame(change_status_counts, columns=['Status', 'Count'])\n",
    "print(\"Project Merge Status\")\n",
    "print(change_status_counts)"
   ]
  },
  {
   "cell_type": "code",
   "execution_count": 4,
   "metadata": {},
   "outputs": [
    {
     "name": "stdout",
     "output_type": "stream",
     "text": [
      "Changes per Branch:\n",
      "                 branch_name  Count\n",
      "0                    master  36270\n",
      "1     distrotech-linux-3.14   1740\n",
      "2                      next   1421\n",
      "3                  riscvdev   1403\n",
      "4                     serup   1316\n",
      "...                     ...    ...\n",
      "2488                 fixBug      1\n",
      "2489        feature-002-run      1\n",
      "2490               test-001      1\n",
      "2491               test-002      1\n",
      "2492              glustermg      1\n",
      "\n",
      "[2493 rows x 2 columns]\n"
     ]
    }
   ],
   "source": [
    "branch_changes = database_data_fetcher(DistributionChangesBranchesQuery)\n",
    "branch_changes = pd.DataFrame(branch_changes, columns=['branch_name', 'Count'])\n",
    "print(\"Changes per Branch:\\n\", branch_changes)"
   ]
  },
  {
   "cell_type": "code",
   "execution_count": 5,
   "metadata": {},
   "outputs": [
    {
     "name": "stdout",
     "output_type": "stream",
     "text": [
      "Average revisions per change: 2\n"
     ]
    }
   ],
   "source": [
    "average_revisions = database_data_fetcher(AverageRevisionsPerChangeQuery)\n",
    "rounded_average_revisions = round(average_revisions[0][0])\n",
    "print(f\"Average revisions per change: {rounded_average_revisions}\")\n"
   ]
  },
  {
   "cell_type": "code",
   "execution_count": 6,
   "metadata": {},
   "outputs": [
    {
     "name": "stdout",
     "output_type": "stream",
     "text": [
      "Top 5 most revised changes:\n",
      "    rev_changeId  Count\n",
      "0         30277    125\n",
      "1         24645    110\n",
      "2         52056     75\n",
      "3          1912     71\n",
      "4         50516     67\n"
     ]
    }
   ],
   "source": [
    "most_revised_changes = database_data_fetcher(Top5MostRevisedChangesQuery)\n",
    "most_revised_changes = pd.DataFrame(most_revised_changes, columns=['rev_changeId', 'Count'])\n",
    "print(\"Top 5 most revised changes:\\n\", most_revised_changes)"
   ]
  },
  {
   "cell_type": "code",
   "execution_count": 7,
   "metadata": {},
   "outputs": [
    {
     "name": "stdout",
     "output_type": "stream",
     "text": [
      "Total comments per Change : \n",
      "        hist_changeId  Count\n",
      "0                  1      3\n",
      "1                  2      2\n",
      "2                  3      4\n",
      "3                  4      3\n",
      "4                  5      6\n",
      "...              ...    ...\n",
      "57329          57372      1\n",
      "57330          57373      1\n",
      "57331          57374      1\n",
      "57332          57375      4\n",
      "57333          57376      3\n",
      "\n",
      "[57334 rows x 2 columns]\n"
     ]
    }
   ],
   "source": [
    "total_comments_per_change = database_data_fetcher(TotalCommentsPerChangeQuery)\n",
    "total_comments_per_change = pd.DataFrame(total_comments_per_change, columns=['hist_changeId', 'Count'])\n",
    "print(\"Total comments per Change : \\n\", total_comments_per_change)"
   ]
  },
  {
   "cell_type": "code",
   "execution_count": 8,
   "metadata": {},
   "outputs": [
    {
     "name": "stdout",
     "output_type": "stream",
     "text": [
      "Average Lines Inserted per Revision : \n",
      " 113\n"
     ]
    }
   ],
   "source": [
    "avg_lines_inserted = database_data_fetcher(AverageLinesInsertedPerRevisionQuery)\n",
    "avg_lines_inserted = round(avg_lines_inserted[0][0])\n",
    "print(\"Average Lines Inserted per Revision : \\n\", avg_lines_inserted)\n"
   ]
  },
  {
   "cell_type": "code",
   "execution_count": 9,
   "metadata": {},
   "outputs": [
    {
     "name": "stdout",
     "output_type": "stream",
     "text": [
      "Average Lines Inserted per Revision : \n",
      " 48\n"
     ]
    }
   ],
   "source": [
    "avg_lines_deleted = database_data_fetcher(AverageLinesDeletedPerRevisionQuery)\n",
    "avg_lines_deleted = round(avg_lines_deleted[0][0])\n",
    "print(\"Average Lines Inserted per Revision : \\n\", avg_lines_deleted)\n"
   ]
  },
  {
   "cell_type": "code",
   "execution_count": 10,
   "metadata": {},
   "outputs": [
    {
     "name": "stdout",
     "output_type": "stream",
     "text": [
      "Top 10 Contributors by Revision Count \n",
      "   rev_authorUsername  Count\n",
      "0      Alex Bikfalvi   2760\n",
      "1      Frank S. Filz   1884\n",
      "2       Galo Navarro   1692\n",
      "3     RDO CI Service   1686\n",
      "4       Greg Nietsky   1459\n",
      "5       Duarte Nunes   1371\n",
      "6     Trevor Vaughan   1352\n",
      "7       Arie Bregman   1329\n",
      "8            jenkins   1230\n",
      "9      Ronelle Landy   1226\n"
     ]
    }
   ],
   "source": [
    "top10_developers_by_revision = database_data_fetcher(Top10ContributorsByRevisionCountQuery)\n",
    "top10_developers_by_revision = pd.DataFrame(top10_developers_by_revision, columns=['rev_authorUsername', 'Count'])\n",
    "print(\"Top 10 Contributors by Revision Count \\n\", top10_developers_by_revision)"
   ]
  },
  {
   "cell_type": "code",
   "execution_count": 11,
   "metadata": {},
   "outputs": [
    {
     "name": "stdout",
     "output_type": "stream",
     "text": [
      "Top 10 Contributors with the Most Comments \n",
      "    hist_authorAccountId  count\n",
      "0              1002805  71470\n",
      "1              1001427  43025\n",
      "2              1000822  22000\n",
      "3                       20954\n",
      "4              1005506  15396\n",
      "5              1000586   6706\n",
      "6              1004838   6434\n",
      "7              1002751   5999\n",
      "8              1001050   5255\n",
      "9              1003571   5005\n"
     ]
    }
   ],
   "source": [
    "developer_with_most_comment = database_data_fetcher(ContributorsWithMostCommentsQuery)\n",
    "developer_with_most_comment = pd.DataFrame(developer_with_most_comment, columns=['hist_authorAccountId', 'count'])\n",
    "print(\"Top 10 Contributors with the Most Comments \\n \", developer_with_most_comment)"
   ]
  },
  {
   "cell_type": "code",
   "execution_count": 12,
   "metadata": {},
   "outputs": [
    {
     "name": "stdout",
     "output_type": "stream",
     "text": [
      "Peak Hours for Commenting (Time in 24 hr format): \n",
      "     Comment_Hour  Comment_Count\n",
      "0             14          34297\n",
      "1             15          31579\n",
      "2             13          27454\n",
      "3             16          26878\n",
      "4             12          24774\n",
      "5             17          24450\n",
      "6             10          23798\n",
      "7             11          23299\n",
      "8              9          23202\n",
      "9             18          22589\n",
      "10             8          20367\n",
      "11            19          19607\n",
      "12            20          18669\n",
      "13            21          17115\n",
      "14             7          15065\n",
      "15            23          14242\n",
      "16            22          13943\n",
      "17             6          10528\n",
      "18             0           8248\n",
      "19             5           7567\n",
      "20             3           7444\n",
      "21             2           7352\n",
      "22             1           6694\n",
      "23             4           6653\n"
     ]
    }
   ],
   "source": [
    "peak_hour_of_commenting = database_data_fetcher(PeakHoursForCommentingQuery)\n",
    "peak_hour_of_commenting = pd.DataFrame(peak_hour_of_commenting, columns=['Comment_Hour', 'Comment_Count'])\n",
    "print(\"Peak Hours for Commenting (Time in 24 hr format): \\n\", peak_hour_of_commenting)"
   ]
  },
  {
   "cell_type": "code",
   "execution_count": 13,
   "metadata": {},
   "outputs": [
    {
     "name": "stdout",
     "output_type": "stream",
     "text": [
      "Days with Highest Change Activity \n",
      "             Date  Change_count\n",
      "0     2014-09-04          1725\n",
      "1     2016-01-03          1221\n",
      "2     2014-09-12          1032\n",
      "3     2015-09-20           829\n",
      "4     2015-02-04           469\n",
      "...          ...           ...\n",
      "1094  2014-08-30             1\n",
      "1095  2014-01-17             1\n",
      "1096  2014-01-16             1\n",
      "1097  2014-01-12             1\n",
      "1098  2013-11-01             1\n",
      "\n",
      "[1099 rows x 2 columns]\n"
     ]
    }
   ],
   "source": [
    "days_with_highest_changes_activity = database_data_fetcher(DaysWithHighestChangeActivityQuery)\n",
    "days_with_highest_changes_activity = pd.DataFrame(days_with_highest_changes_activity, columns=['Date', 'Change_count'])\n",
    "print(\"Days with Highest Change Activity \\n\", days_with_highest_changes_activity)"
   ]
  },
  {
   "cell_type": "code",
   "execution_count": 14,
   "metadata": {},
   "outputs": [
    {
     "name": "stdout",
     "output_type": "stream",
     "text": [
      "Comment Count Trends over Time (monthly) \n",
      "    hist_createdTime_date  Comment_count\n",
      "0                2013-10            142\n",
      "1                2013-11            247\n",
      "2                2013-12            802\n",
      "3                2014-01            926\n",
      "4                2014-02           1774\n",
      "5                2014-03           1860\n",
      "6                2014-04           1263\n",
      "7                2014-05           2129\n",
      "8                2014-06           3019\n",
      "9                2014-07           3440\n",
      "10               2014-08           2326\n",
      "11               2014-09           8396\n",
      "12               2014-10           3928\n",
      "13               2014-11          10433\n",
      "14               2014-12           8733\n",
      "15               2015-01           9859\n",
      "16               2015-02          13441\n",
      "17               2015-03          16380\n",
      "18               2015-04          19457\n",
      "19               2015-05          15723\n",
      "20               2015-06          21431\n",
      "21               2015-07          25162\n",
      "22               2015-08          19241\n",
      "23               2015-09          17069\n",
      "24               2015-10          14795\n",
      "25               2015-11          20703\n",
      "26               2015-12          15005\n",
      "27               2016-01          18167\n",
      "28               2016-02          17181\n",
      "29               2016-03          20081\n",
      "30               2016-04          17534\n",
      "31               2016-05          17170\n",
      "32               2016-06          19700\n",
      "33               2016-07          16618\n",
      "34               2016-08          12574\n",
      "35               2016-09          12543\n",
      "36               2016-10          15608\n",
      "37               2016-11          10954\n"
     ]
    }
   ],
   "source": [
    "comment_over_time = database_data_fetcher(CommentCountTrendsOverTimeQuery)\n",
    "comment_over_time = pd.DataFrame(comment_over_time, columns=['hist_createdTime_date', 'Comment_count'])\n",
    "print(\"Comment Count Trends over Time (monthly) \\n\", comment_over_time)\n"
   ]
  },
  {
   "cell_type": "code",
   "execution_count": 15,
   "metadata": {},
   "outputs": [
    {
     "name": "stdout",
     "output_type": "stream",
     "text": [
      "Average Files Changed per Revision\n",
      " 14\n"
     ]
    }
   ],
   "source": [
    "avg_files_modified_per_revision = database_data_fetcher(AverageFilesChangedPerRevisionQuery)\n",
    "avg_files_modified_per_revision = round(avg_files_modified_per_revision[0][0])\n",
    "print(\"Average Files Changed per Revision\\n\", avg_files_modified_per_revision)"
   ]
  },
  {
   "cell_type": "code",
   "execution_count": 16,
   "metadata": {},
   "outputs": [
    {
     "name": "stdout",
     "output_type": "stream",
     "text": [
      "Projects with Highest Code Churn (Insertions + Deletions) : \n",
      "                        Project_name line_count\n",
      "0         KutkoSergey/The_Third_Lab   43006614\n",
      "1                    yudatun/kernel   37981560\n",
      "2              midonet/midonet-docs   27156923\n",
      "3     oceanobservatories/mi-dataset   19165636\n",
      "4          daemyung/VulkanTutorials   16606297\n",
      "...                             ...        ...\n",
      "2452                BlueEyedHush/gt          0\n",
      "2453          AndreiBike/SPOVM-Labs          0\n",
      "2454           ganov/Play2.4.XBench          0\n",
      "2455               noescape00/REPO0          0\n",
      "2456         william30101/DemoJniDW          0\n",
      "\n",
      "[2457 rows x 2 columns]\n"
     ]
    }
   ],
   "source": [
    "projects_with_highest_code_lines = database_data_fetcher(ProjectsWithHighestCodeChurnQuery)\n",
    "projects_with_highest_code_lines = pd.DataFrame(projects_with_highest_code_lines, columns=['Project_name', 'line_count'])\n",
    "print(\"Projects with Highest Code Churn (Insertions + Deletions) : \\n\", projects_with_highest_code_lines)"
   ]
  },
  {
   "cell_type": "code",
   "execution_count": 17,
   "metadata": {},
   "outputs": [
    {
     "name": "stdout",
     "output_type": "stream",
     "text": [
      "Top 5 Revisions with Most Comments \n",
      "    hist_patchSetNum  comment_count\n",
      "0                 1         196192\n",
      "1                 2          67131\n",
      "2                 3          40462\n",
      "3                 4          26851\n",
      "4                 5          18987\n"
     ]
    }
   ],
   "source": [
    "revisions_with_most_comment_query = database_data_fetcher(RevisionsWithMostCommentsQuery)\n",
    "revisions_with_most_comment_query = pd.DataFrame(revisions_with_most_comment_query, columns=['hist_patchSetNum', 'comment_count'])\n",
    "print(\"Top 5 Revisions with Most Comments \\n\", revisions_with_most_comment_query)"
   ]
  }
 ],
 "metadata": {
  "kernelspec": {
   "display_name": "env",
   "language": "python",
   "name": "python3"
  },
  "language_info": {
   "codemirror_mode": {
    "name": "ipython",
    "version": 3
   },
   "file_extension": ".py",
   "mimetype": "text/x-python",
   "name": "python",
   "nbconvert_exporter": "python",
   "pygments_lexer": "ipython3",
   "version": "3.12.4"
  }
 },
 "nbformat": 4,
 "nbformat_minor": 2
}
